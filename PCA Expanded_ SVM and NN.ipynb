{
 "cells": [
  {
   "cell_type": "markdown",
   "metadata": {
    "id": "sSA54UzK0Z7Z"
   },
   "source": [
    "# README\n",
    "SVM and Feedforward neural networks are tried on the PCA (principal components analysis) dataset, with the PCA fitted from the **expanded** dataset. PCA is loaded in from pickled files to avoid having to retrain.\n",
    "\n",
    "From the expanded dataset, 4883 components are required for 99.9% variance.\n",
    "\n",
    "This file shows models not discussed in the paper."
   ]
  },
  {
   "cell_type": "markdown",
   "metadata": {
    "id": "6p9XEXQeroyu"
   },
   "source": [
    "# Setup"
   ]
  },
  {
   "cell_type": "code",
   "execution_count": 3,
   "metadata": {
    "colab": {
     "base_uri": "https://localhost:8080/"
    },
    "executionInfo": {
     "elapsed": 25659,
     "status": "ok",
     "timestamp": 1713910260598,
     "user": {
      "displayName": "Marcus Kamen",
      "userId": "05392408640240142226"
     },
     "user_tz": 300
    },
    "id": "zPdXqGal05w4",
    "outputId": "b8f10529-ac1d-477b-ee8e-2c31779a0320"
   },
   "outputs": [
    {
     "name": "stdout",
     "output_type": "stream",
     "text": [
      "Collecting datasets\n",
      "  Downloading datasets-2.19.0-py3-none-any.whl (542 kB)\n",
      "\u001b[2K     \u001b[90m━━━━━━━━━━━━━━━━━━━━━━━━━━━━━━━━━━━━━━━━\u001b[0m \u001b[32m542.0/542.0 kB\u001b[0m \u001b[31m5.9 MB/s\u001b[0m eta \u001b[36m0:00:00\u001b[0m\n",
      "\u001b[?25hRequirement already satisfied: filelock in /usr/local/lib/python3.10/dist-packages (from datasets) (3.13.4)\n",
      "Requirement already satisfied: numpy>=1.17 in /usr/local/lib/python3.10/dist-packages (from datasets) (1.25.2)\n",
      "Requirement already satisfied: pyarrow>=12.0.0 in /usr/local/lib/python3.10/dist-packages (from datasets) (14.0.2)\n",
      "Requirement already satisfied: pyarrow-hotfix in /usr/local/lib/python3.10/dist-packages (from datasets) (0.6)\n",
      "Collecting dill<0.3.9,>=0.3.0 (from datasets)\n",
      "  Downloading dill-0.3.8-py3-none-any.whl (116 kB)\n",
      "\u001b[2K     \u001b[90m━━━━━━━━━━━━━━━━━━━━━━━━━━━━━━━━━━━━━━━━\u001b[0m \u001b[32m116.3/116.3 kB\u001b[0m \u001b[31m9.0 MB/s\u001b[0m eta \u001b[36m0:00:00\u001b[0m\n",
      "\u001b[?25hRequirement already satisfied: pandas in /usr/local/lib/python3.10/dist-packages (from datasets) (2.0.3)\n",
      "Requirement already satisfied: requests>=2.19.0 in /usr/local/lib/python3.10/dist-packages (from datasets) (2.31.0)\n",
      "Requirement already satisfied: tqdm>=4.62.1 in /usr/local/lib/python3.10/dist-packages (from datasets) (4.66.2)\n",
      "Collecting xxhash (from datasets)\n",
      "  Downloading xxhash-3.4.1-cp310-cp310-manylinux_2_17_x86_64.manylinux2014_x86_64.whl (194 kB)\n",
      "\u001b[2K     \u001b[90m━━━━━━━━━━━━━━━━━━━━━━━━━━━━━━━━━━━━━━━━\u001b[0m \u001b[32m194.1/194.1 kB\u001b[0m \u001b[31m6.5 MB/s\u001b[0m eta \u001b[36m0:00:00\u001b[0m\n",
      "\u001b[?25hCollecting multiprocess (from datasets)\n",
      "  Downloading multiprocess-0.70.16-py310-none-any.whl (134 kB)\n",
      "\u001b[2K     \u001b[90m━━━━━━━━━━━━━━━━━━━━━━━━━━━━━━━━━━━━━━━━\u001b[0m \u001b[32m134.8/134.8 kB\u001b[0m \u001b[31m14.8 MB/s\u001b[0m eta \u001b[36m0:00:00\u001b[0m\n",
      "\u001b[?25hRequirement already satisfied: fsspec[http]<=2024.3.1,>=2023.1.0 in /usr/local/lib/python3.10/dist-packages (from datasets) (2023.6.0)\n",
      "Requirement already satisfied: aiohttp in /usr/local/lib/python3.10/dist-packages (from datasets) (3.9.5)\n",
      "Collecting huggingface-hub>=0.21.2 (from datasets)\n",
      "  Downloading huggingface_hub-0.22.2-py3-none-any.whl (388 kB)\n",
      "\u001b[2K     \u001b[90m━━━━━━━━━━━━━━━━━━━━━━━━━━━━━━━━━━━━━━━━\u001b[0m \u001b[32m388.9/388.9 kB\u001b[0m \u001b[31m19.7 MB/s\u001b[0m eta \u001b[36m0:00:00\u001b[0m\n",
      "\u001b[?25hRequirement already satisfied: packaging in /usr/local/lib/python3.10/dist-packages (from datasets) (24.0)\n",
      "Requirement already satisfied: pyyaml>=5.1 in /usr/local/lib/python3.10/dist-packages (from datasets) (6.0.1)\n",
      "Requirement already satisfied: aiosignal>=1.1.2 in /usr/local/lib/python3.10/dist-packages (from aiohttp->datasets) (1.3.1)\n",
      "Requirement already satisfied: attrs>=17.3.0 in /usr/local/lib/python3.10/dist-packages (from aiohttp->datasets) (23.2.0)\n",
      "Requirement already satisfied: frozenlist>=1.1.1 in /usr/local/lib/python3.10/dist-packages (from aiohttp->datasets) (1.4.1)\n",
      "Requirement already satisfied: multidict<7.0,>=4.5 in /usr/local/lib/python3.10/dist-packages (from aiohttp->datasets) (6.0.5)\n",
      "Requirement already satisfied: yarl<2.0,>=1.0 in /usr/local/lib/python3.10/dist-packages (from aiohttp->datasets) (1.9.4)\n",
      "Requirement already satisfied: async-timeout<5.0,>=4.0 in /usr/local/lib/python3.10/dist-packages (from aiohttp->datasets) (4.0.3)\n",
      "Requirement already satisfied: typing-extensions>=3.7.4.3 in /usr/local/lib/python3.10/dist-packages (from huggingface-hub>=0.21.2->datasets) (4.11.0)\n",
      "Requirement already satisfied: charset-normalizer<4,>=2 in /usr/local/lib/python3.10/dist-packages (from requests>=2.19.0->datasets) (3.3.2)\n",
      "Requirement already satisfied: idna<4,>=2.5 in /usr/local/lib/python3.10/dist-packages (from requests>=2.19.0->datasets) (3.7)\n",
      "Requirement already satisfied: urllib3<3,>=1.21.1 in /usr/local/lib/python3.10/dist-packages (from requests>=2.19.0->datasets) (2.0.7)\n",
      "Requirement already satisfied: certifi>=2017.4.17 in /usr/local/lib/python3.10/dist-packages (from requests>=2.19.0->datasets) (2024.2.2)\n",
      "Requirement already satisfied: python-dateutil>=2.8.2 in /usr/local/lib/python3.10/dist-packages (from pandas->datasets) (2.8.2)\n",
      "Requirement already satisfied: pytz>=2020.1 in /usr/local/lib/python3.10/dist-packages (from pandas->datasets) (2023.4)\n",
      "Requirement already satisfied: tzdata>=2022.1 in /usr/local/lib/python3.10/dist-packages (from pandas->datasets) (2024.1)\n",
      "Requirement already satisfied: six>=1.5 in /usr/local/lib/python3.10/dist-packages (from python-dateutil>=2.8.2->pandas->datasets) (1.16.0)\n",
      "Installing collected packages: xxhash, dill, multiprocess, huggingface-hub, datasets\n",
      "  Attempting uninstall: huggingface-hub\n",
      "    Found existing installation: huggingface-hub 0.20.3\n",
      "    Uninstalling huggingface-hub-0.20.3:\n",
      "      Successfully uninstalled huggingface-hub-0.20.3\n",
      "Successfully installed datasets-2.19.0 dill-0.3.8 huggingface-hub-0.22.2 multiprocess-0.70.16 xxhash-3.4.1\n"
     ]
    }
   ],
   "source": [
    "!pip install datasets\n",
    "\n",
    "from datasets import load_dataset"
   ]
  },
  {
   "cell_type": "code",
   "execution_count": null,
   "metadata": {
    "id": "PMftlLF_07Mb"
   },
   "outputs": [],
   "source": [
    "#torch dependencies\n",
    "from torch.utils.data import DataLoader\n",
    "from transformers import AutoImageProcessor, ResNetForImageClassification\n",
    "from torchvision import transforms\n",
    "from torchvision.transforms.functional import to_pil_image\n",
    "import torchvision\n",
    "import torch\n",
    "\n",
    "#general dependencies\n",
    "from sklearn.decomposition import PCA\n",
    "import matplotlib.pyplot as plt\n",
    "import numpy as np\n",
    "import cv2\n",
    "from PIL import Image\n",
    "import shutil\n",
    "import os"
   ]
  },
  {
   "cell_type": "code",
   "execution_count": null,
   "metadata": {
    "id": "8KsNtMep08d9"
   },
   "outputs": [],
   "source": [
    "# Stringify a numeric label into textual form\n",
    "def decode_label(label):\n",
    "    if label == 1:\n",
    "        return \"rock\"\n",
    "    elif label == 0:\n",
    "        return \"paper\"\n",
    "    elif label == 2:\n",
    "        return \"scissors\"\n",
    "    elif label == 3:\n",
    "        return \"none\"\n",
    "    return None\n",
    "    # return \"rock\" if label == 1 else \"paper\" if label == 0 else \"scissors\"\n",
    "\n",
    "# grey scale images (channel 1)\n",
    "def grey_scale():\n",
    "  transform = transforms.Compose([\n",
    "      transforms.Resize(256),\n",
    "      transforms.Grayscale(num_output_channels=1),\n",
    "  ])\n",
    "  return transform\n",
    "\n",
    "# returns a transformed image of shape (300, 300, 3)\n",
    "def rgb_image_transform(image): # input type PIL.PngImagePlugin.PngImageFile\n",
    "  resized_image = image.resize((300, 300))\n",
    "  if resized_image.mode != 'RGB':\n",
    "    resized_image = resized_image.convert('RGB')\n",
    "\n",
    "  return resized_image\n",
    "\n",
    "# returns a numpy (tensor) of an image\n",
    "def image_numpy(image):\n",
    "  np_image = np.array(image)\n",
    "\n",
    "  return np_image\n"
   ]
  },
  {
   "cell_type": "markdown",
   "metadata": {
    "id": "XPSvLP5U03fi"
   },
   "source": [
    "## PCA Specific"
   ]
  },
  {
   "cell_type": "code",
   "execution_count": null,
   "metadata": {
    "id": "XehoXp1NrpZd"
   },
   "outputs": [
    {
     "name": "stderr",
     "output_type": "stream",
     "text": [
      "Downloading...\n",
      "From (original): https://drive.google.com/uc?id=1_8iMwpnoGSnVzx_JuAeWXaPuLSt2cX-r\n",
      "From (redirected): https://drive.google.com/uc?id=1_8iMwpnoGSnVzx_JuAeWXaPuLSt2cX-r&confirm=t&uuid=d45b1d1f-c1f5-4618-8ca9-ebc60bf50be6\n",
      "To: c:\\Users\\mkame\\CS4262\\Project\\Image-Recognition-and-Joint-Detection-for-Rock-Paper-Scissors\\pca_lowres.pkl\n",
      "\n",
      "  0%|          | 0.00/640M [00:00<?, ?B/s]\n",
      "  0%|          | 1.05M/640M [00:00<01:15, 8.45MB/s]\n",
      "  1%|          | 4.19M/640M [00:00<00:36, 17.5MB/s]\n",
      "  1%|          | 6.82M/640M [00:00<00:31, 20.0MB/s]\n",
      "  1%|▏         | 9.44M/640M [00:00<00:29, 21.6MB/s]\n",
      "  2%|▏         | 12.6M/640M [00:00<00:26, 23.3MB/s]\n",
      "  2%|▏         | 15.7M/640M [00:00<00:25, 24.4MB/s]\n",
      "  3%|▎         | 18.4M/640M [00:00<00:25, 24.2MB/s]\n",
      "  3%|▎         | 21.5M/640M [00:00<00:24, 25.0MB/s]\n",
      "  4%|▍         | 24.6M/640M [00:01<00:24, 25.5MB/s]\n",
      "  4%|▍         | 27.8M/640M [00:01<00:23, 26.1MB/s]\n",
      "  5%|▍         | 30.9M/640M [00:01<00:23, 26.3MB/s]\n",
      "  5%|▌         | 34.1M/640M [00:01<00:23, 26.3MB/s]\n",
      "  6%|▌         | 37.2M/640M [00:01<00:22, 26.7MB/s]\n",
      "  6%|▋         | 40.4M/640M [00:01<00:22, 26.1MB/s]\n",
      "  7%|▋         | 43.0M/640M [00:01<00:23, 25.7MB/s]\n",
      "  7%|▋         | 45.6M/640M [00:01<00:23, 25.8MB/s]\n",
      "  8%|▊         | 48.8M/640M [00:01<00:22, 26.7MB/s]\n",
      "  8%|▊         | 51.9M/640M [00:02<00:21, 27.1MB/s]\n",
      "  9%|▊         | 55.6M/640M [00:02<00:20, 28.0MB/s]\n",
      "  9%|▉         | 60.8M/640M [00:02<00:17, 33.5MB/s]\n",
      " 10%|█         | 65.0M/640M [00:02<00:16, 35.2MB/s]\n",
      " 11%|█         | 69.2M/640M [00:02<00:15, 36.2MB/s]\n",
      " 11%|█▏        | 73.4M/640M [00:02<00:15, 36.8MB/s]\n",
      " 12%|█▏        | 77.6M/640M [00:02<00:14, 37.8MB/s]\n",
      " 13%|█▎        | 81.8M/640M [00:02<00:14, 37.8MB/s]\n",
      " 13%|█▎        | 86.0M/640M [00:02<00:14, 38.7MB/s]\n",
      " 14%|█▍        | 90.2M/640M [00:03<00:14, 38.9MB/s]\n",
      " 15%|█▍        | 94.4M/640M [00:03<00:14, 38.8MB/s]\n",
      " 15%|█▌        | 98.6M/640M [00:03<00:13, 39.7MB/s]\n",
      " 16%|█▌        | 103M/640M [00:03<00:13, 39.2MB/s] \n",
      " 17%|█▋        | 107M/640M [00:03<00:13, 40.0MB/s]\n",
      " 17%|█▋        | 112M/640M [00:03<00:13, 40.0MB/s]\n",
      " 18%|█▊        | 116M/640M [00:03<00:13, 39.9MB/s]\n",
      " 19%|█▊        | 120M/640M [00:03<00:12, 40.1MB/s]\n",
      " 19%|█▉        | 125M/640M [00:03<00:12, 40.7MB/s]\n",
      " 20%|██        | 129M/640M [00:04<00:12, 40.9MB/s]\n",
      " 21%|██        | 134M/640M [00:04<00:12, 41.5MB/s]\n",
      " 22%|██▏       | 138M/640M [00:04<00:11, 41.9MB/s]\n",
      " 22%|██▏       | 143M/640M [00:04<00:11, 42.7MB/s]\n",
      " 23%|██▎       | 148M/640M [00:04<00:11, 43.1MB/s]\n",
      " 24%|██▍       | 153M/640M [00:04<00:11, 42.4MB/s]\n",
      " 25%|██▍       | 157M/640M [00:04<00:11, 41.9MB/s]\n",
      " 25%|██▌       | 162M/640M [00:04<00:11, 41.1MB/s]\n",
      " 26%|██▌       | 167M/640M [00:04<00:11, 43.0MB/s]\n",
      " 27%|██▋       | 172M/640M [00:05<00:10, 44.7MB/s]\n",
      " 28%|██▊       | 177M/640M [00:05<00:11, 41.1MB/s]\n",
      " 28%|██▊       | 181M/640M [00:05<00:14, 31.0MB/s]\n",
      " 29%|██▉       | 186M/640M [00:05<00:13, 33.4MB/s]\n",
      " 30%|██▉       | 191M/640M [00:05<00:12, 36.7MB/s]\n",
      " 31%|███       | 196M/640M [00:05<00:11, 37.4MB/s]\n",
      " 31%|███▏      | 200M/640M [00:05<00:11, 38.9MB/s]\n",
      " 32%|███▏      | 204M/640M [00:05<00:11, 39.3MB/s]\n",
      " 33%|███▎      | 209M/640M [00:06<00:10, 39.5MB/s]\n",
      " 33%|███▎      | 213M/640M [00:06<00:10, 40.2MB/s]\n",
      " 34%|███▍      | 218M/640M [00:06<00:10, 40.6MB/s]\n",
      " 35%|███▍      | 222M/640M [00:06<00:10, 40.9MB/s]\n",
      " 35%|███▌      | 226M/640M [00:06<00:10, 41.0MB/s]\n",
      " 36%|███▌      | 230M/640M [00:06<00:10, 40.5MB/s]\n",
      " 37%|███▋      | 234M/640M [00:06<00:09, 40.7MB/s]\n",
      " 37%|███▋      | 239M/640M [00:06<00:09, 41.0MB/s]\n",
      " 38%|███▊      | 243M/640M [00:06<00:09, 42.4MB/s]\n",
      " 39%|███▊      | 248M/640M [00:06<00:09, 43.1MB/s]\n",
      " 39%|███▉      | 253M/640M [00:07<00:09, 42.3MB/s]\n",
      " 40%|████      | 257M/640M [00:07<00:09, 39.9MB/s]\n",
      " 41%|████      | 263M/640M [00:07<00:08, 42.4MB/s]\n",
      " 42%|████▏     | 267M/640M [00:07<00:08, 41.6MB/s]\n",
      " 42%|████▏     | 272M/640M [00:07<00:09, 40.7MB/s]\n",
      " 43%|████▎     | 277M/640M [00:07<00:08, 43.1MB/s]\n",
      " 44%|████▍     | 282M/640M [00:07<00:08, 40.5MB/s]\n",
      " 45%|████▍     | 286M/640M [00:07<00:08, 39.7MB/s]\n",
      " 45%|████▌     | 290M/640M [00:08<00:08, 39.3MB/s]\n",
      " 46%|████▌     | 294M/640M [00:08<00:08, 38.5MB/s]\n",
      " 47%|████▋     | 298M/640M [00:08<00:09, 37.8MB/s]\n",
      " 47%|████▋     | 303M/640M [00:08<00:08, 38.5MB/s]\n",
      " 48%|████▊     | 307M/640M [00:08<00:08, 38.5MB/s]\n",
      " 49%|████▊     | 311M/640M [00:08<00:08, 38.0MB/s]\n",
      " 49%|████▉     | 315M/640M [00:08<00:08, 38.0MB/s]\n",
      " 50%|████▉     | 319M/640M [00:08<00:08, 38.2MB/s]\n",
      " 51%|█████     | 324M/640M [00:08<00:07, 40.6MB/s]\n",
      " 51%|█████▏    | 329M/640M [00:09<00:07, 41.8MB/s]\n",
      " 52%|█████▏    | 333M/640M [00:09<00:07, 40.4MB/s]\n",
      " 53%|█████▎    | 339M/640M [00:09<00:06, 44.6MB/s]\n",
      " 54%|█████▍    | 345M/640M [00:09<00:06, 46.8MB/s]\n",
      " 55%|█████▍    | 350M/640M [00:09<00:06, 47.1MB/s]\n",
      " 56%|█████▌    | 355M/640M [00:09<00:06, 43.9MB/s]\n",
      " 56%|█████▋    | 361M/640M [00:09<00:06, 45.6MB/s]\n",
      " 57%|█████▋    | 365M/640M [00:09<00:06, 42.6MB/s]\n",
      " 58%|█████▊    | 370M/640M [00:09<00:06, 41.3MB/s]\n",
      " 58%|█████▊    | 374M/640M [00:10<00:06, 40.8MB/s]\n",
      " 59%|█████▉    | 380M/640M [00:10<00:05, 44.0MB/s]\n",
      " 60%|██████    | 385M/640M [00:10<00:05, 43.2MB/s]\n",
      " 61%|██████    | 390M/640M [00:10<00:06, 39.1MB/s]\n",
      " 61%|██████▏   | 394M/640M [00:10<00:07, 31.0MB/s]\n",
      " 62%|██████▏   | 399M/640M [00:10<00:06, 35.7MB/s]\n",
      " 63%|██████▎   | 404M/640M [00:10<00:05, 39.6MB/s]\n",
      " 64%|██████▍   | 410M/640M [00:10<00:05, 43.5MB/s]\n",
      " 65%|██████▍   | 416M/640M [00:11<00:04, 46.0MB/s]\n",
      " 66%|██████▌   | 421M/640M [00:11<00:04, 47.0MB/s]\n",
      " 67%|██████▋   | 426M/640M [00:11<00:05, 41.8MB/s]\n",
      " 67%|██████▋   | 431M/640M [00:11<00:05, 41.9MB/s]\n",
      " 68%|██████▊   | 436M/640M [00:11<00:04, 41.5MB/s]\n",
      " 69%|██████▉   | 440M/640M [00:11<00:04, 41.7MB/s]\n",
      " 70%|██████▉   | 445M/640M [00:11<00:04, 41.9MB/s]\n",
      " 70%|███████   | 450M/640M [00:11<00:04, 40.8MB/s]\n",
      " 71%|███████   | 455M/640M [00:12<00:04, 41.4MB/s]\n",
      " 72%|███████▏  | 459M/640M [00:12<00:04, 41.7MB/s]\n",
      " 72%|███████▏  | 464M/640M [00:12<00:04, 41.9MB/s]\n",
      " 73%|███████▎  | 469M/640M [00:12<00:04, 41.6MB/s]\n",
      " 74%|███████▍  | 473M/640M [00:12<00:04, 41.7MB/s]\n",
      " 75%|███████▍  | 478M/640M [00:12<00:03, 41.7MB/s]\n",
      " 75%|███████▌  | 482M/640M [00:12<00:03, 41.5MB/s]\n",
      " 76%|███████▌  | 487M/640M [00:12<00:03, 41.5MB/s]\n",
      " 77%|███████▋  | 491M/640M [00:12<00:04, 36.8MB/s]\n",
      " 78%|███████▊  | 498M/640M [00:13<00:03, 44.5MB/s]\n",
      " 78%|███████▊  | 502M/640M [00:13<00:03, 44.4MB/s]\n",
      " 79%|███████▉  | 507M/640M [00:13<00:03, 44.3MB/s]\n",
      " 80%|███████▉  | 512M/640M [00:13<00:02, 45.0MB/s]\n",
      " 81%|████████  | 516M/640M [00:13<00:02, 45.0MB/s]\n",
      " 81%|████████▏ | 521M/640M [00:13<00:02, 44.5MB/s]\n",
      " 82%|████████▏ | 526M/640M [00:13<00:02, 44.7MB/s]\n",
      " 83%|████████▎ | 531M/640M [00:13<00:02, 44.4MB/s]\n",
      " 84%|████████▎ | 535M/640M [00:13<00:02, 44.6MB/s]\n",
      " 84%|████████▍ | 540M/640M [00:14<00:02, 41.4MB/s]\n",
      " 85%|████████▌ | 545M/640M [00:14<00:02, 41.9MB/s]\n",
      " 86%|████████▌ | 549M/640M [00:14<00:02, 41.2MB/s]\n",
      " 86%|████████▋ | 554M/640M [00:14<00:02, 40.9MB/s]\n",
      " 87%|████████▋ | 558M/640M [00:14<00:02, 40.6MB/s]\n",
      " 88%|████████▊ | 562M/640M [00:14<00:01, 40.8MB/s]\n",
      " 89%|████████▊ | 567M/640M [00:14<00:01, 39.8MB/s]\n",
      " 89%|████████▉ | 571M/640M [00:14<00:01, 40.8MB/s]\n",
      " 90%|████████▉ | 576M/640M [00:14<00:01, 40.2MB/s]\n",
      " 91%|█████████ | 580M/640M [00:14<00:01, 41.2MB/s]\n",
      " 91%|█████████▏| 585M/640M [00:15<00:01, 42.3MB/s]\n",
      " 92%|█████████▏| 590M/640M [00:15<00:01, 43.1MB/s]\n",
      " 93%|█████████▎| 595M/640M [00:15<00:01, 43.9MB/s]\n",
      " 94%|█████████▎| 599M/640M [00:15<00:00, 43.9MB/s]\n",
      " 94%|█████████▍| 604M/640M [00:15<00:00, 44.0MB/s]\n",
      " 95%|█████████▌| 609M/640M [00:15<00:00, 43.9MB/s]\n",
      " 96%|█████████▌| 613M/640M [00:15<00:00, 33.4MB/s]\n",
      " 97%|█████████▋| 618M/640M [00:15<00:00, 36.2MB/s]\n",
      " 97%|█████████▋| 624M/640M [00:16<00:00, 40.6MB/s]\n",
      " 98%|█████████▊| 629M/640M [00:16<00:00, 41.5MB/s]\n",
      " 99%|█████████▉| 633M/640M [00:16<00:00, 34.8MB/s]\n",
      "100%|█████████▉| 638M/640M [00:16<00:00, 34.2MB/s]\n",
      "100%|██████████| 640M/640M [00:16<00:00, 38.8MB/s]\n"
     ]
    }
   ],
   "source": [
    "!gdown 1lDME-_L8RExsmE8r3afNkHP0n_Tk0vTr"
   ]
  },
  {
   "cell_type": "code",
   "execution_count": null,
   "metadata": {
    "colab": {
     "base_uri": "https://localhost:8080/"
    },
    "executionInfo": {
     "elapsed": 3585,
     "status": "ok",
     "timestamp": 1713721598589,
     "user": {
      "displayName": "Galen Wei",
      "userId": "05234733460807722154"
     },
     "user_tz": 300
    },
    "id": "AmwbqkZ1xFF_",
    "outputId": "e52f04f2-53da-4ab1-9cae-15f6273e0bf9"
   },
   "outputs": [
    {
     "name": "stderr",
     "output_type": "stream",
     "text": [
      "Downloading...\n",
      "From: https://drive.google.com/uc?id=1PPB3SHLhhRYoXCqHypOK31Vt8gK9UdrL\n",
      "To: c:\\Users\\mkame\\CS4262\\Project\\Image-Recognition-and-Joint-Detection-for-Rock-Paper-Scissors\\pca_mean.pkl\n",
      "\n",
      "  0%|          | 0.00/262k [00:00<?, ?B/s]\n",
      "100%|██████████| 262k/262k [00:00<00:00, 4.40MB/s]\n",
      "Downloading...\n",
      "From: https://drive.google.com/uc?id=1Qs91x9ja1W5R3t4xHpuZSp8xza-mOHxO\n",
      "To: c:\\Users\\mkame\\CS4262\\Project\\Image-Recognition-and-Joint-Detection-for-Rock-Paper-Scissors\\pca_std_dev.pkl\n",
      "\n",
      "  0%|          | 0.00/262k [00:00<?, ?B/s]\n",
      "100%|██████████| 262k/262k [00:00<00:00, 3.56MB/s]\n"
     ]
    }
   ],
   "source": [
    "!gdown 1SY2AMlg-kthcXZctlTQjomoJGgEi1gWw\n",
    "!gdown 1UR2pwrja8IltGh40mBDoRzAQ27AJ1HF3"
   ]
  },
  {
   "cell_type": "code",
   "execution_count": 4,
   "metadata": {
    "id": "asxKfdCdr0c9"
   },
   "outputs": [
    {
     "name": "stderr",
     "output_type": "stream",
     "text": [
      "C:\\Users\\mkame\\AppData\\Roaming\\Python\\Python312\\site-packages\\sklearn\\base.py:376: InconsistentVersionWarning: Trying to unpickle estimator PCA from version 1.2.2 when using version 1.4.2. This might lead to breaking code or invalid results. Use at your own risk. For more info please refer to:\n",
      "https://scikit-learn.org/stable/model_persistence.html#security-maintainability-limitations\n",
      "  warnings.warn(\n"
     ]
    }
   ],
   "source": [
    "import pickle as pk\n",
    "with open(\"pca_lowres.pkl\", 'rb') as f:\n",
    "    pca_4883 = pk.load(f)\n",
    "with open(\"pca_mean.pkl\", 'rb') as f:\n",
    "    mean = pk.load(f)\n",
    "with open(\"pca_std_dev.pkl\", 'rb') as f:\n",
    "    std_dev = pk.load(f)"
   ]
  },
  {
   "cell_type": "code",
   "execution_count": null,
   "metadata": {
    "id": "C-6kvlG2sG9y"
   },
   "outputs": [],
   "source": [
    "def reconstitute(npdata, num_components):\n",
    "    pca = pca_4883\n",
    "    val = np.dot(npdata[:num_components], pca.components_[:num_components]) # * std_dev + mean\n",
    "    # val = val * std_dev + mean\n",
    "    valn = np.clip(np.round(val * std_dev + mean), 0, 255).astype(np.uint8)\n",
    "    # print(valn)\n",
    "    img = toImage(valn.reshape((256, 256, 1)))\n",
    "    return img\n"
   ]
  },
  {
   "cell_type": "code",
   "execution_count": null,
   "metadata": {
    "id": "Dgn4y8qnuEpd"
   },
   "outputs": [],
   "source": [
    "transform = transforms.Compose([\n",
    "    transforms.Resize(256), # (32, 256)),\n",
    "\n",
    "    # transforms.RandomHorizontalFlip(),\n",
    "    transforms.Grayscale(num_output_channels=1),\n",
    "    # transforms.RandomInvert(p=1),\n",
    "    transforms.PILToTensor(),\n",
    "\n",
    "])\n",
    "\n",
    "toImage = transforms.Compose([\n",
    "    transforms.ToPILImage(),\n",
    "])\n"
   ]
  },
  {
   "cell_type": "code",
   "execution_count": null,
   "metadata": {
    "id": "rvgLDGZUtrcB"
   },
   "outputs": [],
   "source": [
    "merged_jointly_ds = ds"
   ]
  },
  {
   "cell_type": "code",
   "execution_count": null,
   "metadata": {
    "colab": {
     "base_uri": "https://localhost:8080/",
     "height": 273
    },
    "executionInfo": {
     "elapsed": 4413,
     "status": "ok",
     "timestamp": 1713721608761,
     "user": {
      "displayName": "Galen Wei",
      "userId": "05234733460807722154"
     },
     "user_tz": 300
    },
    "id": "lzJxLKPkt30c",
    "outputId": "9fc9a419-a5df-4b73-9995-acf6b8d0b233"
   },
   "outputs": [
    {
     "data": {
      "image/png": "[encoded data removed]",
      "text/plain": [
       "<PIL.Image.Image image mode=L size=256x256>"
      ]
     },
     "execution_count": 12,
     "metadata": {},
     "output_type": "execute_result"
    }
   ],
   "source": [
    "reconstitute(merged_jointly_ds['train'][0]['pca'], 2000)"
   ]
  },
  {
   "cell_type": "code",
   "execution_count": null,
   "metadata": {
    "colab": {
     "base_uri": "https://localhost:8080/",
     "height": 273
    },
    "executionInfo": {
     "elapsed": 5,
     "status": "ok",
     "timestamp": 1713721608762,
     "user": {
      "displayName": "Galen Wei",
      "userId": "05234733460807722154"
     },
     "user_tz": 300
    },
    "id": "25j_IE6ituVm",
    "outputId": "20ab1518-399b-49da-dfab-c22b2f4d54af"
   },
   "outputs": [
    {
     "data": {
      "image/png": "[encoded data removed]",
      "text/plain": [
       "<PIL.Image.Image image mode=L size=256x256>"
      ]
     },
     "execution_count": 13,
     "metadata": {},
     "output_type": "execute_result"
    }
   ],
   "source": [
    "toImage(transform(merged_jointly_ds['train'][0]['image']))"
   ]
  },
  {
   "cell_type": "markdown",
   "metadata": {
    "id": "iZEFlxgEzQlV"
   },
   "source": [
    "# SVM\n",
    "\n",
    "SVM is trained for 4883 components from PCA.\n",
    "\n",
    "SVM is also trained on positive labels only from the expanded dataset (which would be Base + kaggle)"
   ]
  },
  {
   "cell_type": "markdown",
   "metadata": {
    "id": "FK43PAjo3Dq6"
   },
   "source": [
    "### All"
   ]
  },
  {
   "cell_type": "code",
   "execution_count": null,
   "metadata": {
    "id": "5g7wrBGpzRdy"
   },
   "outputs": [],
   "source": [
    "labels = np.empty( len(ds['train']) )\n",
    "labels_test = np.empty( len(ds['test']) )\n",
    "\n",
    "for i, row in enumerate(ds['train']):\n",
    "    x = row['label']\n",
    "    labels[i] = x\n",
    "\n",
    "for i, row in enumerate(ds['test']):\n",
    "    labels_test[i] = row['label']\n"
   ]
  },
  {
   "cell_type": "code",
   "execution_count": null,
   "metadata": {
    "id": "F9Cr9K6_vbqK"
   },
   "outputs": [],
   "source": [
    "from itertools import chain\n",
    "\n",
    "\n",
    "def pca_design_matrix(ds, num_components):\n",
    "\n",
    "    X = []\n",
    "    Xtest = []\n",
    "    # X = np.array((len(ds['train']), num_components))\n",
    "    # Xtest = np.array((len(ds['test']), num_components))\n",
    "\n",
    "    for i, row in enumerate(ds['train']):\n",
    "        X.append(row['pca'][:num_components])\n",
    "\n",
    "\n",
    "    for i, row in enumerate(ds['test']):\n",
    "        Xtest.append(row['pca'][:num_components])\n",
    "\n",
    "    return X, Xtest"
   ]
  },
  {
   "cell_type": "code",
   "execution_count": null,
   "metadata": {
    "id": "Cit9bLGDxT09"
   },
   "outputs": [],
   "source": [
    "pca_ds = merged_jointly_ds"
   ]
  },
  {
   "cell_type": "code",
   "execution_count": null,
   "metadata": {
    "colab": {
     "base_uri": "https://localhost:8080/"
    },
    "executionInfo": {
     "elapsed": 132489,
     "status": "ok",
     "timestamp": 1713721916311,
     "user": {
      "displayName": "Galen Wei",
      "userId": "05234733460807722154"
     },
     "user_tz": 300
    },
    "id": "Br6zLSpaxN6B",
    "outputId": "915e6cd3-b972-4b00-dc3b-0c131407d983"
   },
   "outputs": [
    {
     "name": "stdout",
     "output_type": "stream",
     "text": [
      "Time for 4883: 132.30801272392273\n"
     ]
    }
   ],
   "source": [
    "import time\n",
    "start = time.time()\n",
    "\n",
    "X4883, Xtest4883 = pca_design_matrix(pca_ds, 4883)\n",
    "\n",
    "end = time.time()\n",
    "print(\"Time for 4883:\", end - start)"
   ]
  },
  {
   "cell_type": "code",
   "execution_count": null,
   "metadata": {
    "id": "st0UyJO_yr8n"
   },
   "outputs": [],
   "source": [
    "X4883np = np.array(X4883)\n",
    "Xtest4883np = np.array(Xtest4883)\n",
    "# labels_array ="
   ]
  },
  {
   "cell_type": "code",
   "execution_count": null,
   "metadata": {
    "colab": {
     "base_uri": "https://localhost:8080/",
     "height": 698
    },
    "executionInfo": {
     "elapsed": 116652,
     "status": "ok",
     "timestamp": 1713722670313,
     "user": {
      "displayName": "Galen Wei",
      "userId": "05234733460807722154"
     },
     "user_tz": 300
    },
    "id": "F_ApNUtPxWyD",
    "outputId": "d218d0e8-c469-4d64-e00b-e8b99cb17b6c"
   },
   "outputs": [
    {
     "name": "stdout",
     "output_type": "stream",
     "text": [
      "Accuracy: 0.8496314496314497\n",
      "Classification Report:\n",
      "              precision    recall  f1-score   support\n",
      "\n",
      "         0.0       0.69      0.55      0.61       253\n",
      "         1.0       0.78      0.56      0.65       270\n",
      "         2.0       0.69      0.79      0.74       287\n",
      "         3.0       0.93      0.99      0.96      1225\n",
      "\n",
      "    accuracy                           0.85      2035\n",
      "   macro avg       0.77      0.72      0.74      2035\n",
      "weighted avg       0.84      0.85      0.84      2035\n",
      "\n"
     ]
    },
    {
     "data": {
      "image/png": "[encoded data removed]",
      "text/plain": [
       "<Figure size 640x480 with 2 Axes>"
      ]
     },
     "metadata": {},
     "output_type": "display_data"
    }
   ],
   "source": [
    "import matplotlib.pyplot as plt\n",
    "from sklearn.metrics import classification_report, accuracy_score, confusion_matrix, ConfusionMatrixDisplay\n",
    "from sklearn.svm import SVC\n",
    "\n",
    "# Initialize and train an SVM classifier\n",
    "svm_model = SVC(kernel='rbf')\n",
    "svm_model.fit(X4883np, labels)\n",
    "\n",
    "# Predict labels for the test set\n",
    "y_pred = svm_model.predict(Xtest4883np)\n",
    "\n",
    "# Evaluate the model\n",
    "print(\"Accuracy:\", accuracy_score(labels_test, y_pred))\n",
    "print(\"Classification Report:\")\n",
    "print(classification_report(labels_test, y_pred))\n",
    "\n",
    "cm = confusion_matrix(labels_test, y_pred, labels=svm_model.classes_)\n",
    "\n",
    "# Display the confusion matrix\n",
    "disp = ConfusionMatrixDisplay(confusion_matrix=cm, display_labels=svm_model.classes_)\n",
    "\n",
    "disp.plot(cmap=plt.cm.Blues)\n",
    "plt.title('Confusion Matrix')\n",
    "plt.show()"
   ]
  },
  {
   "cell_type": "markdown",
   "metadata": {
    "id": "MIa19A741yyz"
   },
   "source": [
    "### Try only positive labels"
   ]
  },
  {
   "cell_type": "code",
   "execution_count": null,
   "metadata": {
    "id": "lcdFBZX4ygTm"
   },
   "outputs": [],
   "source": [
    "X4883pos = X4883np[labels != 3]\n",
    "labelspos = labels[labels != 3]"
   ]
  },
  {
   "cell_type": "code",
   "execution_count": null,
   "metadata": {
    "id": "ZZMF1Doy2G3C"
   },
   "outputs": [],
   "source": [
    "Xtest4883pos = Xtest4883np[labels_test != 3]\n",
    "labels_test_pos = labels_test[labels_test != 3]"
   ]
  },
  {
   "cell_type": "code",
   "execution_count": null,
   "metadata": {
    "id": "9n5T7qt_179V"
   },
   "outputs": [],
   "source": [
    "import matplotlib.pyplot as plt\n",
    "from sklearn.metrics import classification_report, accuracy_score, confusion_matrix, ConfusionMatrixDisplay\n",
    "from sklearn.svm import SVC\n",
    "\n",
    "# Initialize and train an SVM classifier\n",
    "svm_model = SVC(kernel='rbf')\n",
    "svm_model.fit(X4883pos, labelspos)"
   ]
  },
  {
   "cell_type": "code",
   "execution_count": null,
   "metadata": {
    "colab": {
     "base_uri": "https://localhost:8080/",
     "height": 680
    },
    "executionInfo": {
     "elapsed": 12196,
     "status": "ok",
     "timestamp": 1713723068563,
     "user": {
      "displayName": "Galen Wei",
      "userId": "05234733460807722154"
     },
     "user_tz": 300
    },
    "id": "iBUdielN2px0",
    "outputId": "7e5bf53c-f137-4f0a-be15-0d74873784f8"
   },
   "outputs": [
    {
     "name": "stdout",
     "output_type": "stream",
     "text": [
      "Accuracy: 0.682716049382716\n",
      "Classification Report:\n",
      "              precision    recall  f1-score   support\n",
      "\n",
      "         0.0       0.65      0.56      0.60       253\n",
      "         1.0       0.69      0.68      0.68       270\n",
      "         2.0       0.70      0.79      0.74       287\n",
      "\n",
      "    accuracy                           0.68       810\n",
      "   macro avg       0.68      0.68      0.68       810\n",
      "weighted avg       0.68      0.68      0.68       810\n",
      "\n"
     ]
    },
    {
     "data": {
      "image/png": "[encoded data removed]",
      "text/plain": [
       "<Figure size 640x480 with 2 Axes>"
      ]
     },
     "metadata": {},
     "output_type": "display_data"
    }
   ],
   "source": [
    "\n",
    "# Predict labels for the test set\n",
    "y_pred = svm_model.predict(Xtest4883pos)\n",
    "\n",
    "# Evaluate the model\n",
    "print(\"Accuracy:\", accuracy_score(labels_test_pos, y_pred))\n",
    "print(\"Classification Report:\")\n",
    "print(classification_report(labels_test_pos, y_pred))\n",
    "\n",
    "cm = confusion_matrix(labels_test_pos, y_pred, labels=svm_model.classes_)\n",
    "\n",
    "# Display the confusion matrix\n",
    "disp = ConfusionMatrixDisplay(confusion_matrix=cm, display_labels=svm_model.classes_)\n",
    "\n",
    "disp.plot(cmap=plt.cm.Blues)\n",
    "plt.title('Confusion Matrix')\n",
    "plt.show()"
   ]
  },
  {
   "cell_type": "markdown",
   "metadata": {
    "id": "I2xtzfY35cuL"
   },
   "source": [
    "# NN\n",
    "\n",
    "Neural networks are trained for 4883 components from PCA. It is trained on positive lables only (Base + kaggle)"
   ]
  },
  {
   "cell_type": "code",
   "execution_count": null,
   "metadata": {
    "colab": {
     "base_uri": "https://localhost:8080/"
    },
    "executionInfo": {
     "elapsed": 3,
     "status": "ok",
     "timestamp": 1713724251304,
     "user": {
      "displayName": "Galen Wei",
      "userId": "05234733460807722154"
     },
     "user_tz": 300
    },
    "id": "2Sg7pGJ67LDL",
    "outputId": "56b0db5f-e38b-432f-8a41-88fa299af741"
   },
   "outputs": [
    {
     "data": {
      "text/plain": [
       "(9170, 4883)"
      ]
     },
     "execution_count": 58,
     "metadata": {},
     "output_type": "execute_result"
    }
   ],
   "source": [
    "X4883np.shape"
   ]
  },
  {
   "cell_type": "code",
   "execution_count": null,
   "metadata": {
    "id": "H3rCbjj42p_e"
   },
   "outputs": [],
   "source": [
    "import torch\n",
    "import torch.nn as nn\n",
    "\n",
    "class Net(nn.Module):\n",
    "    def __init__(self):\n",
    "        super(Net, self).__init__()\n",
    "        self.fc1 = nn.Linear(4883, 1000)  # Input layer\n",
    "        self.drop1 = nn.Dropout(0.5)\n",
    "        self.fc2 = nn.Linear(1000, 1000)\n",
    "        self.drop2 = nn.Dropout(0.5)\n",
    "        self.fc3 = nn.Linear(1000, 3)  # Output layer\n",
    "\n",
    "    def forward(self, x):\n",
    "        x = torch.relu(self.fc1(x))  # Activation function for the input layer\n",
    "        x = self.drop1(x)\n",
    "        x = torch.relu(self.fc2(x))  # No activation function for the output layer\n",
    "        x = self.drop2(x)\n",
    "        x = self.fc3(x)\n",
    "        return x\n",
    "\n",
    "# Create an instance of the network\n",
    "net = Net()\n"
   ]
  },
  {
   "cell_type": "code",
   "execution_count": null,
   "metadata": {
    "id": "bZfZHVgR6-5w"
   },
   "outputs": [],
   "source": [
    "from torch.utils.data import DataLoader, TensorDataset\n",
    "from torch import optim\n",
    "\n",
    "data = torch.tensor(X4883pos, dtype=torch.float32)\n",
    "# Create a Dataset\n",
    "dataset = TensorDataset(data, torch.tensor(labelspos, dtype=torch.uint8))\n",
    "\n",
    "# Create a DataLoader\n",
    "dataloader = DataLoader(dataset, batch_size=32, shuffle=True)\n",
    "\n",
    "# Define a loss function and an optimizer\n",
    "criterion = nn.CrossEntropyLoss()\n",
    "optimizer = optim.Adam(net.parameters())\n",
    "\n",
    "# Training loop\n",
    "for epoch in range(25):  # number of epochs\n",
    "    for inputs, targets in dataloader:\n",
    "        # Zero the parameter gradients\n",
    "        optimizer.zero_grad()\n",
    "\n",
    "        # Forward pass\n",
    "        outputs = net(inputs)\n",
    "\n",
    "        # Compute loss\n",
    "        loss = criterion(outputs, targets)\n",
    "\n",
    "        # Backward pass and optimization\n",
    "        loss.backward()\n",
    "        optimizer.step()\n",
    "\n",
    "    # Print loss for every epoch\n",
    "    print(f\"Epoch {epoch+1}, Loss: {loss.item()}\")"
   ]
  },
  {
   "cell_type": "code",
   "execution_count": null,
   "metadata": {
    "id": "GFooklze7Xif"
   },
   "outputs": [],
   "source": [
    "from sklearn.metrics import confusion_matrix\n",
    "\n",
    "def pca_evaluate_nn():\n",
    "    # Assuming you have your test data and labels\n",
    "    # Convert test data and labels to PyTorch tensors\n",
    "    test_data = torch.tensor(Xtest4883pos, dtype=torch.float32)\n",
    "    test_labels = torch.tensor(labels_test_pos, dtype=torch.long)\n",
    "\n",
    "    # Create a Dataset for test data\n",
    "    test_dataset = TensorDataset(test_data, test_labels)\n",
    "\n",
    "    # Create a DataLoader for test data\n",
    "    test_dataloader = DataLoader(test_dataset, batch_size=32)\n",
    "\n",
    "    # Switch the network to evaluation mode\n",
    "    net.eval()\n",
    "\n",
    "    # Initialize the count of correct predictions\n",
    "    correct = 0\n",
    "    total = 0\n",
    "\n",
    "    predicted_labels = []\n",
    "    true_labels = []\n",
    "\n",
    "    # No need to track gradients for evaluation\n",
    "    with torch.no_grad():\n",
    "        for inputs, targets in test_dataloader:\n",
    "            # Forward pass\n",
    "            outputs = net(inputs)\n",
    "\n",
    "            # Get the predicted class\n",
    "            _, predicted = torch.max(outputs.data, 1)\n",
    "\n",
    "            # Update total\n",
    "            total += targets.size(0)\n",
    "\n",
    "            # Update correct\n",
    "            correct += (predicted == targets).sum().item()\n",
    "            predicted_labels.extend(predicted.numpy())\n",
    "            true_labels.extend(targets.numpy())\n",
    "\n",
    "    # Calculate accuracy\n",
    "    accuracy = 100 * correct / total\n",
    "\n",
    "    print(f'Accuracy of the network on the test data: {accuracy} %')\n",
    "\n",
    "    print(\"Classification Report:\")\n",
    "    print(classification_report(true_labels, predicted_labels))\n",
    "    cm = confusion_matrix(true_labels, predicted_labels)\n",
    "    return cm\n"
   ]
  },
  {
   "cell_type": "code",
   "execution_count": null,
   "metadata": {
    "colab": {
     "base_uri": "https://localhost:8080/",
     "height": 680
    },
    "executionInfo": {
     "elapsed": 648,
     "status": "ok",
     "timestamp": 1713726281776,
     "user": {
      "displayName": "Galen Wei",
      "userId": "05234733460807722154"
     },
     "user_tz": 300
    },
    "id": "mh-HP-5-8ox1",
    "outputId": "7406f400-4b41-4044-bcb1-59a4098b4570"
   },
   "outputs": [
    {
     "name": "stdout",
     "output_type": "stream",
     "text": [
      "Accuracy of the network on the test data: 72.46913580246914 %\n",
      "Classification Report:\n",
      "              precision    recall  f1-score   support\n",
      "\n",
      "           0       0.76      0.57      0.65       253\n",
      "           1       0.71      0.80      0.75       270\n",
      "           2       0.72      0.79      0.75       287\n",
      "\n",
      "    accuracy                           0.72       810\n",
      "   macro avg       0.73      0.72      0.72       810\n",
      "weighted avg       0.73      0.72      0.72       810\n",
      "\n"
     ]
    },
    {
     "data": {
      "image/png": "[encoded data removed]",
      "text/plain": [
       "<Figure size 640x480 with 2 Axes>"
      ]
     },
     "metadata": {},
     "output_type": "display_data"
    }
   ],
   "source": [
    "cm = pca_evaluate_nn()\n",
    "# Display the confusion matrix\n",
    "disp = ConfusionMatrixDisplay(confusion_matrix=cm, display_labels=['rock', 'paper', 'scissors'])\n",
    "\n",
    "disp.plot(cmap=plt.cm.Blues)\n",
    "plt.title('Confusion Matrix')\n",
    "plt.show()"
   ]
  }
 ],
 "metadata": {
  "colab": {
   "provenance": []
  },
  "kernelspec": {
   "display_name": "Python 3",
   "name": "python3"
  },
  "language_info": {
   "codemirror_mode": {
    "name": "ipython",
    "version": 3
   },
   "file_extension": ".py",
   "mimetype": "text/x-python",
   "name": "python",
   "nbconvert_exporter": "python",
   "pygments_lexer": "ipython3",
   "version": "3.12.3"
  }
 },
 "nbformat": 4,
 "nbformat_minor": 0
}
